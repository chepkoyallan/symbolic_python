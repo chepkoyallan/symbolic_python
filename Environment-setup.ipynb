{
 "cells": [
  {
   "cell_type": "code",
   "execution_count": 1,
   "id": "f1c052b2",
   "metadata": {},
   "outputs": [
    {
     "name": "stdout",
     "output_type": "stream",
     "text": [
      "Using matplotlib backend: <object object at 0x7fd774ad1980>\n"
     ]
    }
   ],
   "source": [
    "%matplotlib"
   ]
  },
  {
   "cell_type": "code",
   "execution_count": 1,
   "id": "6a408a8d",
   "metadata": {},
   "outputs": [],
   "source": [
    "import sympy as sp\n",
    "from sympy.interactive import printing\n",
    "printing.init_printing(use_latex=True)"
   ]
  },
  {
   "cell_type": "markdown",
   "id": "3f8e88e9",
   "metadata": {},
   "source": [
    "- *antlr4* - parser allows sympy to convert latex code to symbolic expressions\n",
    "\n",
    "- *Graphviz* - graph visualization\n",
    "- *pyan3* - static analysis of python"
   ]
  },
  {
   "cell_type": "markdown",
   "id": "25990541",
   "metadata": {},
   "source": [
    "# First Tutorial"
   ]
  },
  {
   "cell_type": "code",
   "execution_count": 3,
   "id": "29081d96",
   "metadata": {},
   "outputs": [],
   "source": [
    "x, y, z = sp.symbols(\"x, y, z\")"
   ]
  },
  {
   "cell_type": "code",
   "execution_count": 5,
   "id": "8230e035",
   "metadata": {},
   "outputs": [
    {
     "data": {
      "text/plain": [
       "function"
      ]
     },
     "execution_count": 5,
     "metadata": {},
     "output_type": "execute_result"
    }
   ],
   "source": [
    "type(sp.symbols)"
   ]
  },
  {
   "cell_type": "code",
   "execution_count": 7,
   "id": "ee8de6f0",
   "metadata": {},
   "outputs": [],
   "source": [
    "sp.symbols?"
   ]
  },
  {
   "cell_type": "markdown",
   "id": "6bd3b465",
   "metadata": {},
   "source": [
    "## Working with symbols"
   ]
  },
  {
   "cell_type": "code",
   "execution_count": 13,
   "id": "f2f7487d",
   "metadata": {},
   "outputs": [
    {
     "data": {
      "image/png": "[encoded data removed]",
      "text/latex": [
       "$\\displaystyle x$"
      ],
      "text/plain": [
       "x"
      ]
     },
     "execution_count": 13,
     "metadata": {},
     "output_type": "execute_result"
    }
   ],
   "source": [
    "sp.symbols('x')"
   ]
  },
  {
   "cell_type": "code",
   "execution_count": 14,
   "id": "8a185364",
   "metadata": {},
   "outputs": [
    {
     "data": {
      "image/png": "[encoded data removed]",
      "text/latex": [
       "$\\displaystyle \\left( x, \\  y\\right)$"
      ],
      "text/plain": [
       "(x, y)"
      ]
     },
     "execution_count": 14,
     "metadata": {},
     "output_type": "execute_result"
    }
   ],
   "source": [
    "sp.symbols('x,y')"
   ]
  },
  {
   "cell_type": "code",
   "execution_count": 15,
   "id": "14da54d6",
   "metadata": {},
   "outputs": [
    {
     "data": {
      "image/png": "[encoded data removed]",
      "text/latex": [
       "$\\displaystyle \\left( a, \\  b, \\  c\\right)$"
      ],
      "text/plain": [
       "(a, b, c)"
      ]
     },
     "execution_count": 15,
     "metadata": {},
     "output_type": "execute_result"
    }
   ],
   "source": [
    "sp.symbols(('a', 'b', 'c'))"
   ]
  },
  {
   "cell_type": "code",
   "execution_count": 18,
   "id": "f4baf9c5",
   "metadata": {},
   "outputs": [
    {
     "data": {
      "image/png": "[encoded data removed]",
      "text/latex": [
       "$\\displaystyle \\left[ a, \\  b, \\  c\\right]$"
      ],
      "text/plain": [
       "[a, b, c]"
      ]
     },
     "execution_count": 18,
     "metadata": {},
     "output_type": "execute_result"
    }
   ],
   "source": [
    "sp.symbols(['a', 'b', 'c'])"
   ]
  },
  {
   "cell_type": "code",
   "execution_count": 20,
   "id": "02af471f",
   "metadata": {},
   "outputs": [
    {
     "data": {
      "image/png": "[encoded data removed]",
      "text/latex": [
       "$\\displaystyle \\left\\{a, b, c\\right\\}$"
      ],
      "text/plain": [
       "{a, b, c}"
      ]
     },
     "execution_count": 20,
     "metadata": {},
     "output_type": "execute_result"
    }
   ],
   "source": [
    "sp.symbols({'a', 'b', 'c'})"
   ]
  },
  {
   "cell_type": "code",
   "execution_count": 25,
   "id": "2f4e7262",
   "metadata": {},
   "outputs": [
    {
     "data": {
      "image/png": "[encoded data removed]",
      "text/latex": [
       "$\\displaystyle \\left( x,\\right)$"
      ],
      "text/plain": [
       "(x,)"
      ]
     },
     "execution_count": 25,
     "metadata": {},
     "output_type": "execute_result"
    }
   ],
   "source": [
    "sp.symbols('x', seq=True)"
   ]
  },
  {
   "cell_type": "code",
   "execution_count": 26,
   "id": "7bf0207a",
   "metadata": {},
   "outputs": [
    {
     "data": {
      "image/png": "[encoded data removed]",
      "text/latex": [
       "$\\displaystyle \\left( x_{0}, \\  x_{1}, \\  x_{2}, \\  x_{3}, \\  x_{4}, \\  x_{5}, \\  x_{6}, \\  x_{7}, \\  x_{8}, \\  x_{9}\\right)$"
      ],
      "text/plain": [
       "(x₀, x₁, x₂, x₃, x₄, x₅, x₆, x₇, x₈, x₉)"
      ]
     },
     "execution_count": 26,
     "metadata": {},
     "output_type": "execute_result"
    }
   ],
   "source": [
    "sp.symbols('x:10')"
   ]
  },
  {
   "cell_type": "code",
   "execution_count": 27,
   "id": "94418e18",
   "metadata": {},
   "outputs": [
    {
     "data": {
      "image/png": "[encoded data removed]",
      "text/latex": [
       "$\\displaystyle \\left( x_{5}, \\  x_{6}, \\  x_{7}, \\  x_{8}, \\  x_{9}\\right)$"
      ],
      "text/plain": [
       "(x₅, x₆, x₇, x₈, x₉)"
      ]
     },
     "execution_count": 27,
     "metadata": {},
     "output_type": "execute_result"
    }
   ],
   "source": [
    "sp.symbols('x5:10')"
   ]
  },
  {
   "cell_type": "code",
   "execution_count": 28,
   "id": "67270ec2",
   "metadata": {},
   "outputs": [
    {
     "data": {
      "image/png": "[encoded data removed]",
      "text/latex": [
       "$\\displaystyle \\left( x_{50}, \\  x_{51}\\right)$"
      ],
      "text/plain": [
       "(x₅₀, x₅₁)"
      ]
     },
     "execution_count": 28,
     "metadata": {},
     "output_type": "execute_result"
    }
   ],
   "source": [
    "sp.symbols('x5(:2)')"
   ]
  },
  {
   "cell_type": "code",
   "execution_count": 29,
   "id": "d77300f2",
   "metadata": {},
   "outputs": [
    {
     "data": {
      "image/png": "[encoded data removed]",
      "text/latex": [
       "$\\displaystyle \\left( x_{5}, \\  x_{6}, \\  x_{7}, \\  x_{8}, \\  x_{9}, \\  y_{0}, \\  y_{1}, \\  y_{2}, \\  y_{3}, \\  y_{4}\\right)$"
      ],
      "text/plain": [
       "(x₅, x₆, x₇, x₈, x₉, y₀, y₁, y₂, y₃, y₄)"
      ]
     },
     "execution_count": 29,
     "metadata": {},
     "output_type": "execute_result"
    }
   ],
   "source": [
    "sp.symbols('x5:10,y:5')"
   ]
  },
  {
   "cell_type": "code",
   "execution_count": 30,
   "id": "bc62bbdd",
   "metadata": {},
   "outputs": [
    {
     "data": {
      "image/png": "[encoded data removed]",
      "text/latex": [
       "$\\displaystyle \\left( \\left( x_{5}, \\  x_{6}, \\  x_{7}, \\  x_{8}, \\  x_{9}\\right), \\  \\left( y_{0}, \\  y_{1}, \\  y_{2}, \\  y_{3}, \\  y_{4}\\right)\\right)$"
      ],
      "text/plain": [
       "((x₅, x₆, x₇, x₈, x₉), (y₀, y₁, y₂, y₃, y₄))"
      ]
     },
     "execution_count": 30,
     "metadata": {},
     "output_type": "execute_result"
    }
   ],
   "source": [
    "sp.symbols(('x5:10', 'y:5'))"
   ]
  },
  {
   "cell_type": "code",
   "execution_count": 31,
   "id": "8e7c3698",
   "metadata": {},
   "outputs": [
    {
     "data": {
      "image/png": "[encoded data removed]",
      "text/latex": [
       "$\\displaystyle \\left( x, \\  y, \\  z\\right)$"
      ],
      "text/plain": [
       "(x, y, z)"
      ]
     },
     "execution_count": 31,
     "metadata": {},
     "output_type": "execute_result"
    }
   ],
   "source": [
    "sp.symbols('x:z')"
   ]
  },
  {
   "cell_type": "code",
   "execution_count": 33,
   "id": "205727bb",
   "metadata": {},
   "outputs": [
    {
     "data": {
      "image/png": "[encoded data removed]",
      "text/latex": [
       "$\\displaystyle \\left( \\right)$"
      ],
      "text/plain": [
       "()"
      ]
     },
     "execution_count": 33,
     "metadata": {},
     "output_type": "execute_result"
    }
   ],
   "source": [
    "sp.symbols('x:c') #null range"
   ]
  },
  {
   "cell_type": "code",
   "execution_count": 36,
   "id": "234ef08d",
   "metadata": {},
   "outputs": [
    {
     "data": {
      "image/png": "[encoded data removed]",
      "text/latex": [
       "$\\displaystyle \\left( xa, \\  xb, \\  xc\\right)$"
      ],
      "text/plain": [
       "(xa, xb, xc)"
      ]
     },
     "execution_count": 36,
     "metadata": {},
     "output_type": "execute_result"
    }
   ],
   "source": [
    "sp.symbols('x(:c)')"
   ]
  },
  {
   "cell_type": "code",
   "execution_count": 37,
   "id": "fca343bd",
   "metadata": {},
   "outputs": [
    {
     "data": {
      "image/png": "[encoded data removed]",
      "text/latex": [
       "$\\displaystyle \\left( a, \\  b, \\  c\\right)$"
      ],
      "text/plain": [
       "(a, b, c)"
      ]
     },
     "execution_count": 37,
     "metadata": {},
     "output_type": "execute_result"
    }
   ],
   "source": [
    "sp.symbols(':c')"
   ]
  },
  {
   "cell_type": "code",
   "execution_count": 38,
   "id": "5e6e6fe5",
   "metadata": {},
   "outputs": [
    {
     "data": {
      "image/png": "[encoded data removed]",
      "text/latex": [
       "$\\displaystyle \\left( a, \\  b, \\  c, \\  d, \\  x, \\  y, \\  z\\right)$"
      ],
      "text/plain": [
       "(a, b, c, d, x, y, z)"
      ]
     },
     "execution_count": 38,
     "metadata": {},
     "output_type": "execute_result"
    }
   ],
   "source": [
    "sp.symbols('a:d, x:z')"
   ]
  },
  {
   "cell_type": "code",
   "execution_count": 39,
   "id": "5c2c74b5",
   "metadata": {},
   "outputs": [
    {
     "data": {
      "image/png": "[encoded data removed]",
      "text/latex": [
       "$\\displaystyle \\left( \\left( a, \\  b, \\  c, \\  d\\right), \\  \\left( x, \\  y, \\  z\\right)\\right)$"
      ],
      "text/plain": [
       "((a, b, c, d), (x, y, z))"
      ]
     },
     "execution_count": 39,
     "metadata": {},
     "output_type": "execute_result"
    }
   ],
   "source": [
    "sp.symbols(('a:d', 'x:z'))"
   ]
  },
  {
   "cell_type": "code",
   "execution_count": 40,
   "id": "0a1da9af",
   "metadata": {},
   "outputs": [
    {
     "data": {
      "image/png": "[encoded data removed]",
      "text/latex": [
       "$\\displaystyle \\left( x_{01}, \\  x_{02}, \\  x_{11}, \\  x_{12}\\right)$"
      ],
      "text/plain": [
       "(x₀₁, x₀₂, x₁₁, x₁₂)"
      ]
     },
     "execution_count": 40,
     "metadata": {},
     "output_type": "execute_result"
    }
   ],
   "source": [
    "sp.symbols('x:2(1:3)')"
   ]
  },
  {
   "cell_type": "code",
   "execution_count": 41,
   "id": "e5d9181b",
   "metadata": {},
   "outputs": [
    {
     "data": {
      "image/png": "[encoded data removed]",
      "text/latex": [
       "$\\displaystyle \\left( 00, \\  01, \\  10, \\  11, \\  20, \\  21\\right)$"
      ],
      "text/plain": [
       "(00, 01, 10, 11, 20, 21)"
      ]
     },
     "execution_count": 41,
     "metadata": {},
     "output_type": "execute_result"
    }
   ],
   "source": [
    "sp.symbols(':3:2')  # parsing is from left to right"
   ]
  },
  {
   "cell_type": "code",
   "execution_count": 42,
   "id": "b66071ed",
   "metadata": {},
   "outputs": [
    {
     "data": {
      "image/png": "[encoded data removed]",
      "text/latex": [
       "$\\displaystyle \\left( x(a), \\  x(b)\\right)$"
      ],
      "text/plain": [
       "(x(a), x(b))"
      ]
     },
     "execution_count": 42,
     "metadata": {},
     "output_type": "execute_result"
    }
   ],
   "source": [
    "sp.symbols('x((a:b))')"
   ]
  },
  {
   "cell_type": "code",
   "execution_count": 43,
   "id": "29d1a510",
   "metadata": {},
   "outputs": [
    {
     "data": {
      "image/png": "[encoded data removed]",
      "text/latex": [
       "$\\displaystyle \\left( x(0,0), \\  x(0,1)\\right)$"
      ],
      "text/plain": [
       "(x(0,0), x(0,1))"
      ]
     },
     "execution_count": 43,
     "metadata": {},
     "output_type": "execute_result"
    }
   ],
   "source": [
    "sp.symbols(r'x(:1\\,:2)')  # or r'x((:1)\\,(:2))'"
   ]
  },
  {
   "cell_type": "code",
   "execution_count": 44,
   "id": "b992ad6c",
   "metadata": {},
   "outputs": [],
   "source": [
    "a = sp.symbols('a', integer=True)"
   ]
  },
  {
   "cell_type": "code",
   "execution_count": 45,
   "id": "a1a9b63f",
   "metadata": {},
   "outputs": [
    {
     "data": {
      "text/plain": [
       "True"
      ]
     },
     "execution_count": 45,
     "metadata": {},
     "output_type": "execute_result"
    }
   ],
   "source": [
    "a.is_integer"
   ]
  },
  {
   "cell_type": "code",
   "execution_count": 47,
   "id": "df1812a1",
   "metadata": {},
   "outputs": [],
   "source": [
    "x, y, z = sp.symbols('x,y,z', real=True)"
   ]
  },
  {
   "cell_type": "code",
   "execution_count": 48,
   "id": "8f6e5a35",
   "metadata": {},
   "outputs": [
    {
     "data": {
      "text/plain": [
       "True"
      ]
     },
     "execution_count": 48,
     "metadata": {},
     "output_type": "execute_result"
    }
   ],
   "source": [
    "x.is_real and y.is_real and z.is_real"
   ]
  },
  {
   "cell_type": "code",
   "execution_count": 50,
   "id": "d5f00d14",
   "metadata": {},
   "outputs": [
    {
     "data": {
      "text/plain": [
       "(f, g, h)"
      ]
     },
     "execution_count": 50,
     "metadata": {},
     "output_type": "execute_result"
    }
   ],
   "source": [
    "sp.symbols('f,g,h', cls=sp.Function)"
   ]
  },
  {
   "cell_type": "code",
   "execution_count": 51,
   "id": "dd1e53a1",
   "metadata": {},
   "outputs": [
    {
     "data": {
      "text/plain": [
       "f"
      ]
     },
     "execution_count": 51,
     "metadata": {},
     "output_type": "execute_result"
    }
   ],
   "source": [
    "sp.symbols('f,g,h', cls=sp.Function)[0]"
   ]
  },
  {
   "cell_type": "code",
   "execution_count": 52,
   "id": "6fcc4e51",
   "metadata": {},
   "outputs": [],
   "source": [
    "expr1 = (x + 1)**2"
   ]
  },
  {
   "cell_type": "code",
   "execution_count": 53,
   "id": "f2b1f0a5",
   "metadata": {},
   "outputs": [
    {
     "data": {
      "image/png": "[encoded data removed]",
      "text/latex": [
       "$\\displaystyle \\left(x + 1\\right)^{2}$"
      ],
      "text/plain": [
       "       2\n",
       "(x + 1) "
      ]
     },
     "execution_count": 53,
     "metadata": {},
     "output_type": "execute_result"
    }
   ],
   "source": [
    "expr1"
   ]
  },
  {
   "cell_type": "code",
   "execution_count": 55,
   "id": "8534a872",
   "metadata": {},
   "outputs": [
    {
     "data": {
      "image/png": "[encoded data removed]",
      "text/latex": [
       "$\\displaystyle - m x - q + y$"
      ],
      "text/plain": [
       "-m⋅x - q + y"
      ]
     },
     "execution_count": 55,
     "metadata": {},
     "output_type": "execute_result"
    }
   ],
   "source": [
    "m, q = sp.symbols(\"m, q\")\n",
    "expr2 = y - (m*x + q)\n",
    "expr2"
   ]
  },
  {
   "cell_type": "code",
   "execution_count": 58,
   "id": "74537bbb",
   "metadata": {},
   "outputs": [],
   "source": [
    "expr3 = x**2 + 2 * x + 1"
   ]
  },
  {
   "cell_type": "code",
   "execution_count": 61,
   "id": "2a067169",
   "metadata": {},
   "outputs": [
    {
     "data": {
      "text/plain": [
       "False"
      ]
     },
     "execution_count": 61,
     "metadata": {},
     "output_type": "execute_result"
    }
   ],
   "source": [
    "expr1 == expr3"
   ]
  },
  {
   "cell_type": "code",
   "execution_count": 62,
   "id": "9161a997",
   "metadata": {},
   "outputs": [
    {
     "data": {
      "text/plain": [
       "True"
      ]
     },
     "execution_count": 62,
     "metadata": {},
     "output_type": "execute_result"
    }
   ],
   "source": [
    "expr1.equals(expr3)"
   ]
  },
  {
   "cell_type": "code",
   "execution_count": 64,
   "id": "d24bef8f",
   "metadata": {},
   "outputs": [
    {
     "data": {
      "image/png": "[encoded data removed]",
      "text/latex": [
       "$\\displaystyle \\frac{x^{2} + 2 x + 1}{\\left(x + 1\\right)^{2}}$"
      ],
      "text/plain": [
       " 2          \n",
       "x  + 2⋅x + 1\n",
       "────────────\n",
       "         2  \n",
       "  (x + 1)   "
      ]
     },
     "execution_count": 64,
     "metadata": {},
     "output_type": "execute_result"
    }
   ],
   "source": [
    "expr4 = expr3 / expr1\n",
    "expr4"
   ]
  },
  {
   "cell_type": "code",
   "execution_count": 65,
   "id": "5722275e",
   "metadata": {},
   "outputs": [
    {
     "data": {
      "image/png": "[encoded data removed]",
      "text/latex": [
       "$\\displaystyle e^{x^{2}} + \\cos{\\left(\\frac{\\pi x}{4} \\right)} + e$"
      ],
      "text/plain": [
       " ⎛ 2⎞               \n",
       " ⎝x ⎠      ⎛π⋅x⎞    \n",
       "ℯ     + cos⎜───⎟ + ℯ\n",
       "           ⎝ 4 ⎠    "
      ]
     },
     "execution_count": 65,
     "metadata": {},
     "output_type": "execute_result"
    }
   ],
   "source": [
    "expr5 = sp.cos(sp.pi * x/4) + sp.exp(x **2) + sp.E\n",
    "expr5"
   ]
  },
  {
   "cell_type": "code",
   "execution_count": 66,
   "id": "95bd03a2",
   "metadata": {},
   "outputs": [
    {
     "data": {
      "image/png": "[encoded data removed]",
      "text/latex": [
       "$\\displaystyle 2 x e^{x^{2}} - \\frac{\\pi \\sin{\\left(\\frac{\\pi x}{4} \\right)}}{4}$"
      ],
      "text/plain": [
       "                 ⎛π⋅x⎞\n",
       "     ⎛ 2⎞   π⋅sin⎜───⎟\n",
       "     ⎝x ⎠        ⎝ 4 ⎠\n",
       "2⋅x⋅ℯ     - ──────────\n",
       "                4     "
      ]
     },
     "execution_count": 66,
     "metadata": {},
     "output_type": "execute_result"
    }
   ],
   "source": [
    "sp.diff(expr5, x)"
   ]
  },
  {
   "cell_type": "code",
   "execution_count": 71,
   "id": "9c00f99c",
   "metadata": {},
   "outputs": [
    {
     "data": {
      "image/png": "[encoded data removed]",
      "text/latex": [
       "$\\displaystyle \\frac{\\left(x + 1\\right)^{3}}{3} - \\cos{\\left(x \\right)}$"
      ],
      "text/plain": [
       "       3         \n",
       "(x + 1)          \n",
       "──────── - cos(x)\n",
       "   3             "
      ]
     },
     "execution_count": 71,
     "metadata": {},
     "output_type": "execute_result"
    }
   ],
   "source": [
    "expr6 = (x + 1) ** 2 + sp.sin(x)\n",
    "i = sp.integrate(expr6, x)\n",
    "i"
   ]
  },
  {
   "cell_type": "code",
   "execution_count": 73,
   "id": "37fc3db5",
   "metadata": {},
   "outputs": [
    {
     "data": {
      "image/png": "[encoded data removed]",
      "text/latex": [
       "$\\displaystyle \\left(x + 1\\right)^{2} + \\sin{\\left(x \\right)}$"
      ],
      "text/plain": [
       "       2         \n",
       "(x + 1)  + sin(x)"
      ]
     },
     "metadata": {},
     "output_type": "display_data"
    },
    {
     "data": {
      "image/png": "[encoded data removed]",
      "text/latex": [
       "$\\displaystyle \\frac{\\left(x + 1\\right)^{3}}{3} - \\cos{\\left(x \\right)}$"
      ],
      "text/plain": [
       "       3         \n",
       "(x + 1)          \n",
       "──────── - cos(x)\n",
       "   3             "
      ]
     },
     "metadata": {},
     "output_type": "display_data"
    }
   ],
   "source": [
    "display(expr6, i)"
   ]
  },
  {
   "cell_type": "code",
   "execution_count": 74,
   "id": "34cea3a2",
   "metadata": {},
   "outputs": [
    {
     "data": {
      "image/png": "[encoded data removed]",
      "text/latex": [
       "$\\displaystyle \\left( \\left(x + 1\\right)^{2} + \\sin{\\left(x \\right)}, \\  \\frac{\\left(x + 1\\right)^{3}}{3} - \\cos{\\left(x \\right)}\\right)$"
      ],
      "text/plain": [
       "⎛                          3         ⎞\n",
       "⎜       2           (x + 1)          ⎟\n",
       "⎜(x + 1)  + sin(x), ──────── - cos(x)⎟\n",
       "⎝                      3             ⎠"
      ]
     },
     "execution_count": 74,
     "metadata": {},
     "output_type": "execute_result"
    }
   ],
   "source": [
    "expr6, i"
   ]
  },
  {
   "cell_type": "code",
   "execution_count": 89,
   "id": "b87e9d7c",
   "metadata": {},
   "outputs": [],
   "source": [
    "a = sp.Symbol('y1__0')"
   ]
  },
  {
   "cell_type": "code",
   "execution_count": 88,
   "id": "9a1ae504",
   "metadata": {},
   "outputs": [],
   "source": [
    "b = sp.Symbol('y_1__0')"
   ]
  },
  {
   "cell_type": "code",
   "execution_count": 86,
   "id": "193ea5fa",
   "metadata": {},
   "outputs": [],
   "source": [
    "c = sp.Symbol('y_1^0')"
   ]
  },
  {
   "cell_type": "code",
   "execution_count": 85,
   "id": "9e3c5033",
   "metadata": {},
   "outputs": [],
   "source": [
    "d = sp.Symbol(r\"\\dot{m}_{1}\")\n"
   ]
  },
  {
   "cell_type": "code",
   "execution_count": 84,
   "id": "f9f284f1",
   "metadata": {},
   "outputs": [
    {
     "data": {
      "image/png": "[encoded data removed]",
      "text/latex": [
       "$\\displaystyle \\left( y^{0}_{1}, \\  y^{0}_{1}, \\  y^{0}_{1}, \\  \\dot{m}_{1}\\right)$"
      ],
      "text/plain": [
       "(y⁰₁, y⁰₁, y⁰₁, \\dot{m}_{1})"
      ]
     },
     "execution_count": 84,
     "metadata": {},
     "output_type": "execute_result"
    }
   ],
   "source": [
    "a, b, c, d"
   ]
  },
  {
   "cell_type": "markdown",
   "id": "443318f6",
   "metadata": {},
   "source": [
    "## 2.1.2 Assumptions - The old module"
   ]
  },
  {
   "cell_type": "code",
   "execution_count": 2,
   "id": "be28dc3e",
   "metadata": {},
   "outputs": [],
   "source": [
    "y = sp.Symbol(\"y\")"
   ]
  },
  {
   "cell_type": "code",
   "execution_count": 3,
   "id": "a689c747",
   "metadata": {},
   "outputs": [
    {
     "data": {
      "text/plain": [
       "True"
      ]
     },
     "execution_count": 3,
     "metadata": {},
     "output_type": "execute_result"
    }
   ],
   "source": [
    "y.is_commutative"
   ]
  },
  {
   "cell_type": "code",
   "execution_count": 4,
   "id": "a30c620e",
   "metadata": {},
   "outputs": [],
   "source": [
    "#setting commutitive to false\n",
    "y = sp.Symbol(\"y\", commutative=False)"
   ]
  },
  {
   "cell_type": "code",
   "execution_count": 6,
   "id": "e9ab1c7f",
   "metadata": {},
   "outputs": [
    {
     "data": {
      "text/plain": [
       "False"
      ]
     },
     "execution_count": 6,
     "metadata": {},
     "output_type": "execute_result"
    }
   ],
   "source": [
    "y.is_commutative"
   ]
  },
  {
   "cell_type": "markdown",
   "id": "c6ea71c9",
   "metadata": {},
   "source": [
    "- solve, collect may have trouble for non-commutative symbols/expression"
   ]
  },
  {
   "cell_type": "code",
   "execution_count": 7,
   "id": "d4025d73",
   "metadata": {},
   "outputs": [
    {
     "data": {
      "text/plain": [
       "(True, True, True)"
      ]
     },
     "execution_count": 7,
     "metadata": {},
     "output_type": "execute_result"
    }
   ],
   "source": [
    "x = sp.Symbol(\"x\", real=True)\n",
    "x.is_commutative, x.is_real, x.is_complex"
   ]
  },
  {
   "cell_type": "code",
   "execution_count": 8,
   "id": "b9fa092f",
   "metadata": {},
   "outputs": [],
   "source": [
    "x.is_integer\n",
    "# when the value of a property cant be determined sympy returns None"
   ]
  },
  {
   "cell_type": "code",
   "execution_count": 9,
   "id": "48066ddb",
   "metadata": {},
   "outputs": [
    {
     "data": {
      "text/plain": [
       "(True, True, True, False)"
      ]
     },
     "execution_count": 9,
     "metadata": {},
     "output_type": "execute_result"
    }
   ],
   "source": [
    "y = sp.Symbol(\"y\", integer=True, positive=True)\n",
    "y.is_integer, y.is_real, y.is_complex, y.is_negative"
   ]
  },
  {
   "cell_type": "code",
   "execution_count": 12,
   "id": "24c388ce",
   "metadata": {},
   "outputs": [
    {
     "data": {
      "image/png": "[encoded data removed]",
      "text/latex": [
       "$\\displaystyle \\left( x, \\  x\\right)$"
      ],
      "text/plain": [
       "(x, x)"
      ]
     },
     "metadata": {},
     "output_type": "display_data"
    },
    {
     "name": "stdout",
     "output_type": "stream",
     "text": [
      "False\n"
     ]
    }
   ],
   "source": [
    "x1, x2 = sp.Symbol('x'), sp.Symbol('x', real=True)\n",
    "display((x1, x2))\n",
    "print(x1.equals(x2))"
   ]
  },
  {
   "cell_type": "code",
   "execution_count": 13,
   "id": "ccdb6284",
   "metadata": {},
   "outputs": [
    {
     "data": {
      "text/plain": [
       "(True, True)"
      ]
     },
     "execution_count": 13,
     "metadata": {},
     "output_type": "execute_result"
    }
   ],
   "source": [
    "k = sp.Symbol(\"k\", integer=True, positive=True)\n",
    "expr = k + 1\n",
    "expr.is_integer, expr.is_positive"
   ]
  },
  {
   "cell_type": "code",
   "execution_count": 16,
   "id": "270c914e",
   "metadata": {},
   "outputs": [
    {
     "name": "stdout",
     "output_type": "stream",
     "text": [
      "Help on function assumptions in module sympy.core.assumptions:\n",
      "\n",
      "assumptions(expr, _check=None)\n",
      "    return the T/F assumptions of ``expr``\n",
      "\n"
     ]
    }
   ],
   "source": [
    "help(sp.core.assumptions)"
   ]
  },
  {
   "cell_type": "markdown",
   "id": "70e03c4b",
   "metadata": {},
   "source": [
    "### Limitations of old assumptions\n",
    "\n",
    "- x > y\n",
    "\n",
    "- 0 < x < 1"
   ]
  },
  {
   "cell_type": "markdown",
   "id": "6415c10a",
   "metadata": {},
   "source": [
    "## 2.2 Creaate multiple symbols "
   ]
  },
  {
   "cell_type": "code",
   "execution_count": 17,
   "id": "78045144",
   "metadata": {},
   "outputs": [
    {
     "data": {
      "image/png": "[encoded data removed]",
      "text/latex": [
       "$\\displaystyle x$"
      ],
      "text/plain": [
       "x"
      ]
     },
     "execution_count": 17,
     "metadata": {},
     "output_type": "execute_result"
    }
   ],
   "source": [
    "sp.symbols(\"x\") #-> Symbol"
   ]
  },
  {
   "cell_type": "code",
   "execution_count": 19,
   "id": "acb1986a",
   "metadata": {},
   "outputs": [
    {
     "data": {
      "image/png": "[encoded data removed]",
      "text/latex": [
       "$\\displaystyle \\left( x,\\right)$"
      ],
      "text/plain": [
       "(x,)"
      ]
     },
     "execution_count": 19,
     "metadata": {},
     "output_type": "execute_result"
    }
   ],
   "source": [
    "sp.symbols(\"x, \") #->tuple"
   ]
  },
  {
   "cell_type": "code",
   "execution_count": 20,
   "id": "945de261",
   "metadata": {},
   "outputs": [
    {
     "data": {
      "image/png": "[encoded data removed]",
      "text/latex": [
       "$\\displaystyle \\left( x,\\right)$"
      ],
      "text/plain": [
       "(x,)"
      ]
     },
     "execution_count": 20,
     "metadata": {},
     "output_type": "execute_result"
    }
   ],
   "source": [
    "sp.symbols(\"x\", seq=True) # -> tuple"
   ]
  },
  {
   "cell_type": "code",
   "execution_count": 21,
   "id": "bc81fa12",
   "metadata": {},
   "outputs": [
    {
     "data": {
      "image/png": "[encoded data removed]",
      "text/latex": [
       "$\\displaystyle \\left( x, \\  y\\right)$"
      ],
      "text/plain": [
       "(x, y)"
      ]
     },
     "execution_count": 21,
     "metadata": {},
     "output_type": "execute_result"
    }
   ],
   "source": [
    "sp.symbols(\"x, y\") #-> tuple"
   ]
  },
  {
   "cell_type": "code",
   "execution_count": 22,
   "id": "3a1d6c46",
   "metadata": {},
   "outputs": [
    {
     "data": {
      "image/png": "[encoded data removed]",
      "text/latex": [
       "$\\displaystyle \\left( x, \\  y, \\  z\\right)$"
      ],
      "text/plain": [
       "(x, y, z)"
      ]
     },
     "execution_count": 22,
     "metadata": {},
     "output_type": "execute_result"
    }
   ],
   "source": [
    "sp.symbols(\"x, y, z\") #-> tuple"
   ]
  },
  {
   "cell_type": "code",
   "execution_count": 23,
   "id": "cdf899f8",
   "metadata": {},
   "outputs": [
    {
     "data": {
      "image/png": "[encoded data removed]",
      "text/latex": [
       "$\\displaystyle \\left( x, \\  y, \\  z\\right)$"
      ],
      "text/plain": [
       "(x, y, z)"
      ]
     },
     "execution_count": 23,
     "metadata": {},
     "output_type": "execute_result"
    }
   ],
   "source": [
    "sp.symbols((\"x\", \"y\", \"z\")) #-> Tuple"
   ]
  },
  {
   "cell_type": "code",
   "execution_count": 24,
   "id": "8129f179",
   "metadata": {},
   "outputs": [
    {
     "data": {
      "image/png": "[encoded data removed]",
      "text/latex": [
       "$\\displaystyle \\left[ x, \\  y, \\  z\\right]$"
      ],
      "text/plain": [
       "[x, y, z]"
      ]
     },
     "execution_count": 24,
     "metadata": {},
     "output_type": "execute_result"
    }
   ],
   "source": [
    "sp.symbols([\"x\", \"y\", \"z\"]) #->list"
   ]
  },
  {
   "cell_type": "code",
   "execution_count": 25,
   "id": "19e049af",
   "metadata": {},
   "outputs": [
    {
     "data": {
      "image/png": "[encoded data removed]",
      "text/latex": [
       "$\\displaystyle \\left\\{x, y, z\\right\\}$"
      ],
      "text/plain": [
       "{x, y, z}"
      ]
     },
     "execution_count": 25,
     "metadata": {},
     "output_type": "execute_result"
    }
   ],
   "source": [
    "sp.symbols({\"x\", \"y\", \"z\"}) #-> set"
   ]
  },
  {
   "cell_type": "code",
   "execution_count": 29,
   "id": "f7e1cbef",
   "metadata": {},
   "outputs": [
    {
     "data": {
      "image/png": "[encoded data removed]",
      "text/latex": [
       "$\\displaystyle \\left( x, \\  y\\right)$"
      ],
      "text/plain": [
       "(x, y)"
      ]
     },
     "execution_count": 29,
     "metadata": {},
     "output_type": "execute_result"
    }
   ],
   "source": [
    "#unpacking\n",
    "x, y = sp.symbols(\"x, y\")\n",
    "x, y"
   ]
  },
  {
   "cell_type": "code",
   "execution_count": 31,
   "id": "20553181",
   "metadata": {},
   "outputs": [],
   "source": [
    "x, y = sp.symbols(\"x, y\", real=True)"
   ]
  },
  {
   "cell_type": "markdown",
   "id": "2e0bcc0a",
   "metadata": {},
   "source": [
    "#### Consecutive symbols (arrays, matrices)"
   ]
  },
  {
   "cell_type": "code",
   "execution_count": 32,
   "id": "411f4dda",
   "metadata": {},
   "outputs": [],
   "source": [
    "#label, start:end"
   ]
  },
  {
   "cell_type": "code",
   "execution_count": 33,
   "id": "7b7837f8",
   "metadata": {},
   "outputs": [
    {
     "data": {
      "image/png": "[encoded data removed]",
      "text/latex": [
       "$\\displaystyle \\left( x_{0}, \\  x_{1}, \\  x_{2}\\right)$"
      ],
      "text/plain": [
       "(x₀, x₁, x₂)"
      ]
     },
     "execution_count": 33,
     "metadata": {},
     "output_type": "execute_result"
    }
   ],
   "source": [
    "sp.symbols(\"x:3\")"
   ]
  },
  {
   "cell_type": "code",
   "execution_count": 34,
   "id": "2997ee73",
   "metadata": {},
   "outputs": [
    {
     "data": {
      "image/png": "[encoded data removed]",
      "text/latex": [
       "$\\displaystyle \\left( x_{3}, \\  x_{4}\\right)$"
      ],
      "text/plain": [
       "(x₃, x₄)"
      ]
     },
     "execution_count": 34,
     "metadata": {},
     "output_type": "execute_result"
    }
   ],
   "source": [
    "sp.symbols(\"x3:5\")"
   ]
  },
  {
   "cell_type": "code",
   "execution_count": 35,
   "id": "dd2ddf88",
   "metadata": {},
   "outputs": [
    {
     "data": {
      "image/png": "[encoded data removed]",
      "text/latex": [
       "$\\displaystyle \\left( x_{30}, \\  x_{31}\\right)$"
      ],
      "text/plain": [
       "(x₃₀, x₃₁)"
      ]
     },
     "execution_count": 35,
     "metadata": {},
     "output_type": "execute_result"
    }
   ],
   "source": [
    "sp.symbols(\"x3(:2)\")"
   ]
  },
  {
   "cell_type": "code",
   "execution_count": 36,
   "id": "ab0d4647",
   "metadata": {},
   "outputs": [
    {
     "data": {
      "image/png": "[encoded data removed]",
      "text/latex": [
       "$\\displaystyle \\left( x_{3}, \\  x_{4}, \\  y_{0}, \\  y_{1}\\right)$"
      ],
      "text/plain": [
       "(x₃, x₄, y₀, y₁)"
      ]
     },
     "execution_count": 36,
     "metadata": {},
     "output_type": "execute_result"
    }
   ],
   "source": [
    "sp.symbols(\"x3:5, y:2\")"
   ]
  },
  {
   "cell_type": "code",
   "execution_count": 38,
   "id": "83e67dc6",
   "metadata": {},
   "outputs": [
    {
     "data": {
      "image/png": "[encoded data removed]",
      "text/latex": [
       "$\\displaystyle \\left( x_{3}, \\  x_{4}, \\  y_{0}, \\  y_{1}\\right)$"
      ],
      "text/plain": [
       "(x₃, x₄, y₀, y₁)"
      ]
     },
     "execution_count": 38,
     "metadata": {},
     "output_type": "execute_result"
    }
   ],
   "source": [
    "sp.symbols((\"x3:5, y:2\"))"
   ]
  },
  {
   "cell_type": "code",
   "execution_count": 39,
   "id": "d96181a7",
   "metadata": {},
   "outputs": [
    {
     "data": {
      "image/png": "[encoded data removed]",
      "text/latex": [
       "$\\displaystyle \\left( \\left( x_{3}, \\  x_{4}\\right), \\  \\left( y_{0}, \\  y_{1}\\right)\\right)$"
      ],
      "text/plain": [
       "((x₃, x₄), (y₀, y₁))"
      ]
     },
     "execution_count": 39,
     "metadata": {},
     "output_type": "execute_result"
    }
   ],
   "source": [
    "sp.symbols((\"x3:5\", \"y:2\"))"
   ]
  },
  {
   "cell_type": "code",
   "execution_count": 40,
   "id": "d3b60e6d",
   "metadata": {},
   "outputs": [
    {
     "data": {
      "image/png": "[encoded data removed]",
      "text/latex": [
       "$\\displaystyle \\left( x_{00}, \\  x_{01}, \\  x_{02}, \\  x_{10}, \\  x_{11}, \\  x_{12}\\right)$"
      ],
      "text/plain": [
       "(x₀₀, x₀₁, x₀₂, x₁₀, x₁₁, x₁₂)"
      ]
     },
     "execution_count": 40,
     "metadata": {},
     "output_type": "execute_result"
    }
   ],
   "source": [
    "sp.symbols(\"x(:2)(:3)\")"
   ]
  },
  {
   "cell_type": "code",
   "execution_count": 41,
   "id": "5fb28204",
   "metadata": {},
   "outputs": [
    {
     "data": {
      "image/png": "[encoded data removed]",
      "text/latex": [
       "$\\displaystyle \\left( x, \\  y, \\  z\\right)$"
      ],
      "text/plain": [
       "(x, y, z)"
      ]
     },
     "execution_count": 41,
     "metadata": {},
     "output_type": "execute_result"
    }
   ],
   "source": [
    "sp.symbols(\"x:z\")"
   ]
  },
  {
   "cell_type": "code",
   "execution_count": 43,
   "id": "20026e60",
   "metadata": {},
   "outputs": [
    {
     "data": {
      "image/png": "[encoded data removed]",
      "text/latex": [
       "$\\displaystyle \\left( xa, \\  xb, \\  xc\\right)$"
      ],
      "text/plain": [
       "(xa, xb, xc)"
      ]
     },
     "execution_count": 43,
     "metadata": {},
     "output_type": "execute_result"
    }
   ],
   "source": [
    "sp.symbols(\"x(:c)\")"
   ]
  },
  {
   "cell_type": "code",
   "execution_count": 44,
   "id": "962fdbca",
   "metadata": {},
   "outputs": [
    {
     "data": {
      "image/png": "[encoded data removed]",
      "text/latex": [
       "$\\displaystyle \\left( a, \\  b, \\  c, \\  x, \\  y, \\  z\\right)$"
      ],
      "text/plain": [
       "(a, b, c, x, y, z)"
      ]
     },
     "execution_count": 44,
     "metadata": {},
     "output_type": "execute_result"
    }
   ],
   "source": [
    "sp.symbols(\"a:c, x:z\")"
   ]
  },
  {
   "cell_type": "code",
   "execution_count": 45,
   "id": "8a5fb50e",
   "metadata": {},
   "outputs": [
    {
     "data": {
      "image/png": "[encoded data removed]",
      "text/latex": [
       "$\\displaystyle \\left( \\left( a, \\  b, \\  c\\right), \\  \\left( x, \\  y, \\  z\\right)\\right)$"
      ],
      "text/plain": [
       "((a, b, c), (x, y, z))"
      ]
     },
     "execution_count": 45,
     "metadata": {},
     "output_type": "execute_result"
    }
   ],
   "source": [
    "sp.symbols((\"a:c\", \"x:z\"))"
   ]
  },
  {
   "cell_type": "code",
   "execution_count": 46,
   "id": "7f978cb6",
   "metadata": {},
   "outputs": [
    {
     "data": {
      "image/png": "[encoded data removed]",
      "text/latex": [
       "$\\displaystyle \\left( x(a), \\  x(b), \\  x(c)\\right)$"
      ],
      "text/plain": [
       "(x(a), x(b), x(c))"
      ]
     },
     "execution_count": 46,
     "metadata": {},
     "output_type": "execute_result"
    }
   ],
   "source": [
    "sp.symbols(\"x((:c))\")"
   ]
  },
  {
   "cell_type": "code",
   "execution_count": null,
   "id": "31271714",
   "metadata": {},
   "outputs": [],
   "source": []
  }
 ],
 "metadata": {
  "kernelspec": {
   "display_name": "Python 3 (ipykernel)",
   "language": "python",
   "name": "python3"
  },
  "language_info": {
   "codemirror_mode": {
    "name": "ipython",
    "version": 3
   },
   "file_extension": ".py",
   "mimetype": "text/x-python",
   "name": "python",
   "nbconvert_exporter": "python",
   "pygments_lexer": "ipython3",
   "version": "3.8.5"
  }
 },
 "nbformat": 4,
 "nbformat_minor": 5
}
